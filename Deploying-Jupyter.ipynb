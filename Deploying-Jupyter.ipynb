{
 "cells": [
  {
   "cell_type": "markdown",
   "metadata": {},
   "source": [
    "# Deploying Jupyter Notebook"
   ]
  },
  {
   "cell_type": "markdown",
   "metadata": {},
   "source": [
    "Jupyter Notebook is a web application that allows user to create documents that combine executable code, regular text, pictures, videos, equations and visualizations. There are many different ways to start using Jupyter. This notebook includes three of these ways, and small instructions to each.\n",
    "\n",
    "At the end of the notebook there are also instructions for getting different CMS Open Data files to use in notebooks."
   ]
  },
  {
   "cell_type": "markdown",
   "metadata": {},
   "source": [
    "## 1) Installing Jupyter locally"
   ]
  },
  {
   "cell_type": "markdown",
   "metadata": {},
   "source": [
    "One simple way to use Jupyter Notebook is to install it locally to your computer. The easiest way to delpoy Jupyter is to install Anaconda (https://www.continuum.io/downloads), which installs Python, Jupyter Notebook and some useful packages all at once.\n",
    "\n",
    "Full instructions for the installation and different options can be found on website http://jupyter.readthedocs.io/en/latest/install.html. Here is listed a summary of installation with Anaconda:\n",
    "\n",
    "- Download Anaconda from https://www.continuum.io/downloads. It is recommended to select the latest version of Python 3, which is currently 3.5.\n",
    "- Install Ancaconda to your computer.\n",
    "- After the installation, you can open Jupyter by opening Anaconda Navigator and there selecting Jupyter Notebook, or you can write command \"jupyter notebook\" in your terminal."
   ]
  },
  {
   "cell_type": "markdown",
   "metadata": {},
   "source": [
    "#### Using ROOT in notebooks with local installation"
   ]
  },
  {
   "cell_type": "markdown",
   "metadata": {},
   "source": [
    "It is possible to use ROOT with locally installed Jupyter Notebook with JupyROOT software layer. For this you will need ROOT 6 installed to your computer. Full instructions for setting up JupyROOT can be found here: https://github.com/root-mirror/root/tree/master/bindings/pyroot/JupyROOT."
   ]
  },
  {
   "cell_type": "markdown",
   "metadata": {},
   "source": [
    "## 2) Binder (http://mybinder.org/)"
   ]
  },
  {
   "cell_type": "markdown",
   "metadata": {},
   "source": [
    "Binder creates an environment where notebooks can be ran, modified and saved to computer directly in a browser. Binder also supports notebooks that use ROOT with the help of Docker (https://www.docker.com/).\n",
    "\n",
    "Binder uses social coding site GitHub to collect notebooks. Our first thing to do so is to create a GitHub account where we can storage our notebooks. "
   ]
  },
  {
   "cell_type": "markdown",
   "metadata": {},
   "source": [
    "#### Creating a GitHub account"
   ]
  },
  {
   "cell_type": "markdown",
   "metadata": {},
   "source": [
    "GitHub account is free and easy to create. Here are the steps needed:\n",
    "- Go to the page https://github.com/ and on the start page fill informations needed. Hit the green _Sign up for GitHub_ -button.\n",
    "<img src=\"Kuvat/GitHub-kirjautuminen.png\" width=\"300\">"
   ]
  },
  {
   "cell_type": "markdown",
   "metadata": {},
   "source": [
    "- On the next page, select the option \"Unlimited public repositories for free\" and click _Continue_.\n",
    "\n",
    "<img src=\"Kuvat/GitHub-kirjautuminen2.png\" width=\"400\">"
   ]
  },
  {
   "cell_type": "markdown",
   "metadata": {},
   "source": [
    "- After that you might be asked some additional questions, but you can skip that step. Registration should lead you to the main page. There you can either read some information about GitHub with the button _Read the guide_, or start a new project with the button _Start a project_.\n",
    "\n",
    "<img src=\"Kuvat/GitHub-kirjautuminen3.png\" width=\"500\">"
   ]
  },
  {
   "cell_type": "markdown",
   "metadata": {},
   "source": [
    "- After you have read the guide (if you feel so), start a new project. Then you are asked to verify your email address. After that we're ready to move to the next step which looks like this:\n",
    "<br>\n",
    "<br>\n",
    "<img src=\"Kuvat/GitHub-kirjautuminen4.png\" width=\"600\">"
   ]
  },
  {
   "cell_type": "markdown",
   "metadata": {},
   "source": [
    "- Here we are creating a new repository, where notebooks can be saved and storaged. Type some name to your repository, select \"Initialize this repostitory with a README\" and click _Create repository_ -button.\n",
    "- Congratulations! You have now your first own GitHub repository which looks something like this:\n",
    "\n",
    "<img src=\"Kuvat/GitHub-kirjautuminen5.png\" width=\"600\">"
   ]
  },
  {
   "cell_type": "markdown",
   "metadata": {},
   "source": [
    "#### Getting your notebooks to GitHub"
   ]
  },
  {
   "cell_type": "markdown",
   "metadata": {},
   "source": [
    "Next we should get all the notebooks and other files needed to GitHub. Note that if you are for example using some pictures, datafiles or others in your notebook, you have to upload them too.\n",
    "\n",
    "There are couple of ways for adding files to GitHub. Here we are using the simplest option and just drag and drop the files. That's how it goes:\n",
    "\n",
    "- In your repository, click _Upload files_ -button.\n",
    "<img src=\"Kuvat/GitHub-upload.png\" width=\"400\">"
   ]
  },
  {
   "cell_type": "markdown",
   "metadata": {},
   "source": [
    "- Select the files you want to upload from your computer, or drag and drop them to GitHub window.\n",
    "\n",
    "- __Important!__ If you are using ROOT in your notebooks, you have to upload also the specific file named _Dockerfile_. In the CERN HST working group, the file was included in the _coder-notebooks/sharing_ -folder in SWAN. If you can't find the dockerfile, all of the files used in working group can be downloaded from here: https://github.com/hs-coder/coder-notebooks. You can also email working group mailing list so we will send you a one.\n",
    "\n",
    "- After selecting the files, click the green _Commit changes_ -button.\n",
    "<img src=\"Kuvat/GitHub-upload2.png\" width=\"600\">"
   ]
  },
  {
   "cell_type": "markdown",
   "metadata": {},
   "source": [
    "- Now you should have all the files you selected to upload listed in your repository. Note that the files in the picture below are just some example files, you may have different ones.\n",
    "\n",
    "<img src=\"Kuvat/GitHub-upload3.png\" width=\"700\">"
   ]
  },
  {
   "cell_type": "markdown",
   "metadata": {},
   "source": [
    "#### Building a repository with Binder "
   ]
  },
  {
   "cell_type": "markdown",
   "metadata": {},
   "source": [
    "Now all we have to do is to build our repository with Binder. Here's how it goes:\n",
    "\n",
    "- Copy your GitHub repository's web address (URL) from your browser\n",
    "\n",
    "<img src=\"Kuvat/GitHub-url.png\" width=\"700\">\n",
    "\n",
    "- Go to http://mybinder.org/, paste the copied URL in _Build the repository_ -box and hit _submit_-button.\n",
    "\n",
    "<img src=\"Kuvat/Binder-build.png\" width=\"500\">"
   ]
  },
  {
   "cell_type": "markdown",
   "metadata": {},
   "source": [
    "- Binder starts to build your repository. Build of a new repository may take a while (5–10 minutes).\n",
    "- If the repository remains unchanged, next builds with Binder will take only couple of seconds. If you change something in your repository and want to see the changes in Binder, the repository has to be built again.\n",
    "\n",
    "<img src=\"Kuvat/Binder-build2.png\" width=\"700\">"
   ]
  },
  {
   "cell_type": "markdown",
   "metadata": {},
   "source": [
    "- Build is finished when all circles on the left are green. Then you can launch your environment with the _launch_-button on top right of the page.\n",
    "- That's it! Now we are ready to use Jupyter with Binder."
   ]
  },
  {
   "cell_type": "markdown",
   "metadata": {},
   "source": [
    "#### Using Jupyter with Binder"
   ]
  },
  {
   "cell_type": "markdown",
   "metadata": {},
   "source": [
    "After hitting the _launch_-button, you are taken to the environment, which contains your GitHub repository:\n",
    "\n",
    "<img src=\"Kuvat/Binder-dashboard.png\" width=\"700\">\n",
    "\n",
    "In this environment, you can open, create, customize and run notebooks. One important thing to notice is that anything you do won't be saved when you exit Binder. So after the session, download notebooks that you created or edited to your computer. That can be done from Jupyter menubar by selecting _File_ -> _Download as_ -> _IPython Notebook (.ipynb)_.\n",
    "\n",
    "<img src=\"Kuvat/Binder-saving.png\" width=\"370\">"
   ]
  },
  {
   "cell_type": "markdown",
   "metadata": {},
   "source": [
    "## 3) SageMathCloud (https://cloud.sagemath.com/)"
   ]
  },
  {
   "cell_type": "markdown",
   "metadata": {},
   "source": [
    "Another way to use Jupyter remotely is SageMathCloud. SageMathCloud (SMC) is web-based cloud platform where you can create and run notebooks among other activities. It is free to create an account to SMC and use it, but it also provides paid plans, which are for example more stable than free ones.\n",
    "\n",
    "Note that SageMathCloud does not support ROOT notebooks."
   ]
  },
  {
   "cell_type": "markdown",
   "metadata": {},
   "source": [
    "#### Creating SageMathCloud account"
   ]
  },
  {
   "cell_type": "markdown",
   "metadata": {},
   "source": [
    "- Go to https://cloud.sagemath.com/ and either connect with different accounts (Facebook, GitHub, Google, Twitter) or create a new SMC account by filling in the information needed:\n",
    "\n",
    "<img src=\"Kuvat/SMC-login.png\" width=\"370\">\n",
    "<br>\n",
    "- Create a new project by clicking the green _Create new project_ -button.\n",
    "\n",
    "<img src=\"Kuvat/SMC-login2.png\" width=\"300\">\n",
    "\n",
    "- In your new project, you can create and run notebooks. You can create a new notebook by clicking either the _New_-button or _Create_-button.\n",
    "\n",
    "<img src=\"Kuvat/SMC-new.png\">\n",
    "\n",
    "<img src=\"Kuvat/SMC-create.png\">\n",
    "\n",
    "- From the next screen, give a name to your notebook and click _Jupyter Notebook_ -button from the section _Select the type_.\n",
    "<br>\n",
    "<br>\n",
    "<img src=\"Kuvat/SMC-file.png\" width=\"700\">\n",
    "\n",
    "<br>\n",
    "<br>\n",
    "- SMC will open the Jupyter interface. You can modify, run and save notebooks as normally. Notebooks will be saved in your SMC account's cloud. It is also possible to download notebooks to your computer.\n",
    "<br>\n",
    "<br>\n",
    "<img src=\"Kuvat/SMC-notebook.png\" width=\"500\">"
   ]
  },
  {
   "cell_type": "markdown",
   "metadata": {},
   "source": [
    "#### Uploading files to SageMathCloud"
   ]
  },
  {
   "cell_type": "markdown",
   "metadata": {},
   "source": [
    "You might want to use some external files, for example datafiles, in your notebooks in SMC. It is possible to upload files to your SMC account by drag and dropping. Only restriction is that each file must be under 30 MB of size. Bigger files are also possible to upload with SSH, but it's a bit more complicated. Instructions for bigger files can be found from project's _Settings_ page.\n",
    "\n",
    "Here is what you have to do when you want to upload files by \"drag and drop\" -method:\n",
    "\n",
    "- Click the _New_-button from the top of the page.\n",
    "\n",
    "<img src=\"Kuvat/SMC-new.png\">\n",
    "\n",
    "- Scroll down the page and you will see the box where files can be dropped. Other way is to click the box and select files.\n",
    "\n",
    "<img src=\"Kuvat/SMC-upload.png\" width=\"500\">\n",
    "<br>\n",
    "<br>\n",
    "- You will see a green marker when the files are successfully uploaded:\n",
    "\n",
    "<img src=\"Kuvat/SMC-upload2.png\">"
   ]
  },
  {
   "cell_type": "markdown",
   "metadata": {},
   "source": [
    "## Getting the files used in HST working group"
   ]
  },
  {
   "cell_type": "markdown",
   "metadata": {},
   "source": [
    "#### ROOT files, example notebooks and the dockerfile"
   ]
  },
  {
   "cell_type": "markdown",
   "metadata": {},
   "source": [
    "All of the example notebooks, datafiles and the dockerfile can be downloaded from GitHub repository https://github.com/hs-coder/coder-notebooks. You can download the files with the green _Clone or download_ -button by clicking it and selecting the option _Download ZIP_.\n",
    "\n",
    "<img src=\"Kuvat/GitHub-download.png\" width=\"400\">"
   ]
  },
  {
   "cell_type": "markdown",
   "metadata": {},
   "source": [
    "#### CSV files"
   ]
  },
  {
   "cell_type": "markdown",
   "metadata": {},
   "source": [
    "We also used CSV files in working group. For CSV files, there are couple of places to get them. From the Open Data portal (http://opendata.cern.ch/), you can find dimuon event CSV file (http://opendata.cern.ch/record/700) and CSV file from MultiJet primary dataset (http://opendata.cern.ch/record/554). If you decide to use files from the Open Data portal, please cite them as instructed in links.\n",
    "\n",
    "There are also eight different CSV files in this GitHub repository: <br>https://github.com/tpmccauley/cmsopendata-jupyter/tree/hst-0.1.\n",
    "\n",
    "These files are created from primary datasets by using this package:<br>https://github.com/tpmccauley/dimuon-filter.\n",
    "\n",
    "You can download the files in the same way than instructed above by clicking _Clone or download_ -button and selecting the option _Download ZIP_.\n",
    "\n",
    "Note that in the files there are different information included depending on the file. For example some of the files contain a column _M_, which refers to invariant mass, and some don't. The information depends on type of the events which are included in the particular file. You can check what kind of data any file contains by opening the file for example in notepad:\n",
    "<br>\n",
    "<br>\n",
    "<img src=\"Kuvat/CSV-file.png\" width=\"400\">"
   ]
  },
  {
   "cell_type": "markdown",
   "metadata": {},
   "source": [
    "## Questions?"
   ]
  },
  {
   "cell_type": "markdown",
   "metadata": {},
   "source": [
    "For any questions about Open Data and deploying and using Jupyter, please feel free to send an email to working group mailing list (HST2016-WG5@cern.ch) or directly to me, Paavo (paavo.tuomas.rikkila@cern.ch).\n",
    "\n",
    "Have fun with Jupyter and Open Data!"
   ]
  }
 ],
 "metadata": {
  "kernelspec": {
   "display_name": "Python 2",
   "language": "python",
   "name": "python2"
  },
  "language_info": {
   "codemirror_mode": {
    "name": "ipython",
    "version": 2
   },
   "file_extension": ".py",
   "mimetype": "text/x-python",
   "name": "python",
   "nbconvert_exporter": "python",
   "pygments_lexer": "ipython2",
   "version": "2.7.10"
  }
 },
 "nbformat": 4,
 "nbformat_minor": 0
}
